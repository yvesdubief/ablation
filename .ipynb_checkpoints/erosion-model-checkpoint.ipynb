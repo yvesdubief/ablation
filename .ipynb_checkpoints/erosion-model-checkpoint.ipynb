{
 "cells": [
  {
   "cell_type": "raw",
   "metadata": {},
   "source": [
    "Text provided under a Creative Commons Attribution license, CC-BY. All code is made available under the FSF-approved MIT license. (c) Yves Dubief, 2018. NSF for support via NSF CBET-0967857, NASA NNX11AM07A, NASA NNX"
   ]
  },
  {
   "cell_type": "markdown",
   "metadata": {},
   "source": [
    "# Simple Erosion Model\n",
    "\n",
    "## Objective\n",
    "\n",
    "Text goes here\n",
    "\n",
    "## Level-set method\n",
    "\n",
    "$$\n",
    "\\frac{\\partial \\phi}{\\partial t} = (\\alpha \\kappa-u)\\left\\vert\\boldsymbol{\\nabla}\\phi\\right\\vert\n",
    "$$"
   ]
  },
  {
   "cell_type": "code",
   "execution_count": null,
   "metadata": {},
   "outputs": [],
   "source": [
    "\"\"\" Initialization: loading libraries, setting up parameters\"\"\"\n",
    "import matplotlib.pyplot as plt\n",
    "import skfmm \n",
    "import numpy as np\n",
    "from scipy.interpolate import interp1d\n",
    "from scipy.interpolate import griddata\n",
    "L = 2.\n",
    "N = 51\n",
    "R = 1\n",
    "delta = 2*L/(N-1)\n",
    "X,Y = np.meshgrid(np.linspace(-L,L,N),np.linspace(-L,L,N))\n",
    "# initial shape\n",
    "phi = X**2 + Y**2 - R\n",
    "phi = skfmm.distance(phi, dx = delta )\n",
    "# loading wall shear stress data\n",
    "data = np.genfromtxt('shear-stress.txt')\n",
    "xold = data[:,0]\n",
    "yold = data[:,1]\n",
    "f = interp1d(xold, yold,bounds_error=False, fill_value=0.0645)"
   ]
  }
 ],
 "metadata": {
  "kernelspec": {
   "display_name": "Python 3",
   "language": "python",
   "name": "python3"
  },
  "language_info": {
   "codemirror_mode": {
    "name": "ipython",
    "version": 3
   },
   "file_extension": ".py",
   "mimetype": "text/x-python",
   "name": "python",
   "nbconvert_exporter": "python",
   "pygments_lexer": "ipython3",
   "version": "3.6.6"
  }
 },
 "nbformat": 4,
 "nbformat_minor": 2
}
